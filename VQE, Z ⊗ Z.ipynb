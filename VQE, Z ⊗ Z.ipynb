{
 "cells": [
  {
   "cell_type": "code",
   "execution_count": 3,
   "metadata": {},
   "outputs": [],
   "source": [
    "%matplotlib inline\n",
    "\n",
    "import numpy as np\n",
    "\n",
    "from qiskit import BasicAer\n",
    "from qiskit.quantum_info.operators import Pauli\n",
    "from qiskit.aqua.operators import X, Z, Y, I\n",
    "from qiskit.aqua import QuantumInstance\n",
    "from qiskit.aqua.algorithms import VQE\n",
    "from qiskit.algorithms.optimizers import SPSA, COBYLA\n",
    "from qiskit.circuit.library import TwoLocal"
   ]
  },
  {
   "cell_type": "code",
   "execution_count": null,
   "metadata": {},
   "outputs": [],
   "source": []
  },
  {
   "cell_type": "code",
   "execution_count": 4,
   "metadata": {},
   "outputs": [],
   "source": [
    "def vqe_algorithm(op, max_iter=100):\n",
    "    simulator = BasicAer.get_backend('statevector_simulator')\n",
    "    qi = QuantumInstance(simulator)\n",
    "\n",
    "    values = []\n",
    "    def store_result(eval_count, parameters, mean, std):\n",
    "        values.append(mean)\n",
    "\n",
    "    var_form = TwoLocal(rotation_blocks='ry', entanglement_blocks='cz', entanglement=\"full\")\n",
    "    opt = SPSA(1000)\n",
    "    vqe = VQE(operator=op, var_form=var_form, optimizer=opt, callback=store_result, quantum_instance=qi)\n",
    "    result = vqe.run()\n",
    "    print(\"VQE Result: \",values[-1])"
   ]
  },
  {
   "cell_type": "code",
   "execution_count": 5,
   "metadata": {},
   "outputs": [
    {
     "name": "stderr",
     "output_type": "stream",
     "text": [
      "D:\\anaconda3\\lib\\site-packages\\qiskit\\aqua\\operators\\operator_base.py:46: DeprecationWarning: The package qiskit.aqua.operators is deprecated. It was moved/refactored to qiskit.opflow (pip install qiskit-terra). For more information see <https://github.com/Qiskit/qiskit-aqua/blob/master/README.md#migration-guide>\n",
      "  warn_package('aqua.operators', 'qiskit.opflow', 'qiskit-terra')\n"
     ]
    }
   ],
   "source": [
    "gate=Z^Z"
   ]
  },
  {
   "cell_type": "code",
   "execution_count": 7,
   "metadata": {},
   "outputs": [
    {
     "name": "stdout",
     "output_type": "stream",
     "text": [
      "     ┌───┐     ┌───┐     ┌───┐     ┌───┐\n",
      "q_0: ┤ Z ├──■──┤ Z ├──■──┤ Z ├──■──┤ Z ├\n",
      "     ├───┤┌─┴─┐├───┤┌─┴─┐├───┤┌─┴─┐├───┤\n",
      "q_1: ┤ Z ├┤ X ├┤ Z ├┤ X ├┤ Z ├┤ X ├┤ Z ├\n",
      "     └───┘└───┘└───┘└───┘└───┘└───┘└───┘\n"
     ]
    }
   ],
   "source": [
    "var_form=TwoLocal(2,'z','cx','full')\n",
    "print(var_form)"
   ]
  },
  {
   "cell_type": "code",
   "execution_count": 8,
   "metadata": {},
   "outputs": [
    {
     "name": "stderr",
     "output_type": "stream",
     "text": [
      "D:\\anaconda3\\lib\\site-packages\\qiskit\\aqua\\quantum_instance.py:135: DeprecationWarning: The class qiskit.aqua.QuantumInstance is deprecated. It was moved/refactored to qiskit.utils.QuantumInstance (pip install qiskit-terra). For more information see <https://github.com/Qiskit/qiskit-aqua/blob/master/README.md#migration-guide>\n",
      "  warn_class('aqua.QuantumInstance',\n",
      "D:\\anaconda3\\lib\\site-packages\\qiskit\\aqua\\algorithms\\vq_algorithm.py:70: DeprecationWarning: The class qiskit.aqua.algorithms.VQAlgorithm is deprecated. It was moved/refactored to qiskit.algorithms.VariationalAlgorithm (pip install qiskit-terra). For more information see <https://github.com/Qiskit/qiskit-aqua/blob/master/README.md#migration-guide>\n",
      "  warn_class('aqua.algorithms.VQAlgorithm',\n",
      "D:\\anaconda3\\lib\\site-packages\\qiskit\\aqua\\algorithms\\quantum_algorithm.py:46: DeprecationWarning: The variable qiskit.aqua.aqua_globals is deprecated. It was moved/refactored to qiskit.utils.algorithm_globals (pip install qiskit-terra). For more information see <https://github.com/Qiskit/qiskit-aqua/blob/master/README.md#migration-guide>\n",
      "  return aqua_globals.random\n"
     ]
    },
    {
     "name": "stdout",
     "output_type": "stream",
     "text": [
      "VQE Result:  -0.9999922565513616\n"
     ]
    }
   ],
   "source": [
    "vqe_algorithm(gate,100)"
   ]
  },
  {
   "cell_type": "code",
   "execution_count": null,
   "metadata": {},
   "outputs": [],
   "source": []
  },
  {
   "cell_type": "code",
   "execution_count": null,
   "metadata": {},
   "outputs": [],
   "source": []
  },
  {
   "cell_type": "code",
   "execution_count": null,
   "metadata": {},
   "outputs": [],
   "source": []
  },
  {
   "cell_type": "code",
   "execution_count": null,
   "metadata": {},
   "outputs": [],
   "source": []
  },
  {
   "cell_type": "code",
   "execution_count": null,
   "metadata": {},
   "outputs": [],
   "source": []
  },
  {
   "cell_type": "code",
   "execution_count": null,
   "metadata": {},
   "outputs": [],
   "source": []
  }
 ],
 "metadata": {
  "kernelspec": {
   "display_name": "Python 3",
   "language": "python",
   "name": "python3"
  },
  "language_info": {
   "codemirror_mode": {
    "name": "ipython",
    "version": 3
   },
   "file_extension": ".py",
   "mimetype": "text/x-python",
   "name": "python",
   "nbconvert_exporter": "python",
   "pygments_lexer": "ipython3",
   "version": "3.8.5"
  }
 },
 "nbformat": 4,
 "nbformat_minor": 4
}
